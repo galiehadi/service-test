{
 "cells": [
  {
   "cell_type": "code",
   "execution_count": 1,
   "metadata": {},
   "outputs": [],
   "source": [
    "import pandas as pd\n",
    "import numpy as np\n",
    "import time, config, traceback, re, os\n",
    "from urllib.parse import quote_plus as urlparse\n",
    "from pprint import pprint\n",
    "from sqlalchemy import create_engine\n",
    "import json\n",
    "from distutils.log import debug\n",
    "from flask import Flask, request, jsonify, make_response, send_file\n",
    "from flask_cors import CORS, cross_origin\n",
    "from numpy import asanyarray\n",
    "from utils.func import *\n",
    "import traceback\n",
    "import logging as systemlog\n",
    "\n",
    "_USER_ = config._USER_\n",
    "_PASS_ = urlparse(config._PASS_)\n",
    "_IP_ = config._IP_\n",
    "_DB_NAME_ = config._DB_NAME_\n",
    "\n",
    "con = f\"mysql+mysqlconnector://{_USER_}:{_PASS_}@{_IP_}/{_DB_NAME_}\"\n",
    "engine = create_engine(con)\n",
    "\n",
    "# pd.set_option('display.max_columns', None)\n",
    "# pd.set_option('display.expand_frame_repr', False)\n",
    "# pd.set_option('max_colwidth', None)"
   ]
  },
  {
   "cell_type": "code",
   "execution_count": 102,
   "metadata": {},
   "outputs": [
    {
     "data": {
      "text/html": [
       "<div>\n",
       "<style scoped>\n",
       "    .dataframe tbody tr th:only-of-type {\n",
       "        vertical-align: middle;\n",
       "    }\n",
       "\n",
       "    .dataframe tbody tr th {\n",
       "        vertical-align: top;\n",
       "    }\n",
       "\n",
       "    .dataframe thead th {\n",
       "        text-align: right;\n",
       "    }\n",
       "</style>\n",
       "<table border=\"1\" class=\"dataframe\">\n",
       "  <thead>\n",
       "    <tr style=\"text-align: right;\">\n",
       "      <th></th>\n",
       "      <th>menu_id</th>\n",
       "      <th>menu_name</th>\n",
       "      <th>base_price</th>\n",
       "      <th>topping_id</th>\n",
       "      <th>topping_name</th>\n",
       "      <th>topping_price</th>\n",
       "    </tr>\n",
       "  </thead>\n",
       "  <tbody>\n",
       "    <tr>\n",
       "      <th>0</th>\n",
       "      <td>1</td>\n",
       "      <td>Pizza</td>\n",
       "      <td>50000.0</td>\n",
       "      <td>10</td>\n",
       "      <td>Cheese</td>\n",
       "      <td>12000.0</td>\n",
       "    </tr>\n",
       "    <tr>\n",
       "      <th>1</th>\n",
       "      <td>1</td>\n",
       "      <td>Pizza</td>\n",
       "      <td>50000.0</td>\n",
       "      <td>11</td>\n",
       "      <td>Chicken</td>\n",
       "      <td>18000.0</td>\n",
       "    </tr>\n",
       "    <tr>\n",
       "      <th>2</th>\n",
       "      <td>1</td>\n",
       "      <td>Pizza</td>\n",
       "      <td>50000.0</td>\n",
       "      <td>12</td>\n",
       "      <td>Pepper</td>\n",
       "      <td>8000.0</td>\n",
       "    </tr>\n",
       "    <tr>\n",
       "      <th>3</th>\n",
       "      <td>2</td>\n",
       "      <td>Doughnut</td>\n",
       "      <td>20000.0</td>\n",
       "      <td>13</td>\n",
       "      <td>Blueberry</td>\n",
       "      <td>12000.0</td>\n",
       "    </tr>\n",
       "    <tr>\n",
       "      <th>4</th>\n",
       "      <td>2</td>\n",
       "      <td>Doughnut</td>\n",
       "      <td>20000.0</td>\n",
       "      <td>14</td>\n",
       "      <td>Cheese</td>\n",
       "      <td>12000.0</td>\n",
       "    </tr>\n",
       "    <tr>\n",
       "      <th>5</th>\n",
       "      <td>2</td>\n",
       "      <td>Doughnut</td>\n",
       "      <td>20000.0</td>\n",
       "      <td>15</td>\n",
       "      <td>Sugar Glaze</td>\n",
       "      <td>10000.0</td>\n",
       "    </tr>\n",
       "    <tr>\n",
       "      <th>6</th>\n",
       "      <td>3</td>\n",
       "      <td>Pie</td>\n",
       "      <td>45000.0</td>\n",
       "      <td>16</td>\n",
       "      <td>Pepper</td>\n",
       "      <td>8000.0</td>\n",
       "    </tr>\n",
       "    <tr>\n",
       "      <th>7</th>\n",
       "      <td>3</td>\n",
       "      <td>Pie</td>\n",
       "      <td>45000.0</td>\n",
       "      <td>17</td>\n",
       "      <td>Blueberry</td>\n",
       "      <td>12000.0</td>\n",
       "    </tr>\n",
       "    <tr>\n",
       "      <th>8</th>\n",
       "      <td>3</td>\n",
       "      <td>Pie</td>\n",
       "      <td>45000.0</td>\n",
       "      <td>18</td>\n",
       "      <td>Apple Slices</td>\n",
       "      <td>14000.0</td>\n",
       "    </tr>\n",
       "  </tbody>\n",
       "</table>\n",
       "</div>"
      ],
      "text/plain": [
       "   menu_id menu_name  base_price  topping_id  topping_name  topping_price\n",
       "0        1     Pizza     50000.0          10        Cheese        12000.0\n",
       "1        1     Pizza     50000.0          11       Chicken        18000.0\n",
       "2        1     Pizza     50000.0          12        Pepper         8000.0\n",
       "3        2  Doughnut     20000.0          13     Blueberry        12000.0\n",
       "4        2  Doughnut     20000.0          14        Cheese        12000.0\n",
       "5        2  Doughnut     20000.0          15   Sugar Glaze        10000.0\n",
       "6        3       Pie     45000.0          16        Pepper         8000.0\n",
       "7        3       Pie     45000.0          17     Blueberry        12000.0\n",
       "8        3       Pie     45000.0          18  Apple Slices        14000.0"
      ]
     },
     "execution_count": 102,
     "metadata": {},
     "output_type": "execute_result"
    }
   ],
   "source": [
    "# Buat DataFrame untuk topping dan filling\n",
    "topping_data = get_all_topping()\n",
    "filling_data = get_all_fillings()\n",
    "\n",
    "topping_data\n",
    "# filling_data"
   ]
  },
  {
   "cell_type": "code",
   "execution_count": 16,
   "metadata": {},
   "outputs": [
    {
     "data": {
      "text/html": [
       "<div>\n",
       "<style scoped>\n",
       "    .dataframe tbody tr th:only-of-type {\n",
       "        vertical-align: middle;\n",
       "    }\n",
       "\n",
       "    .dataframe tbody tr th {\n",
       "        vertical-align: top;\n",
       "    }\n",
       "\n",
       "    .dataframe thead th {\n",
       "        text-align: right;\n",
       "    }\n",
       "</style>\n",
       "<table border=\"1\" class=\"dataframe\">\n",
       "  <thead>\n",
       "    <tr style=\"text-align: right;\">\n",
       "      <th></th>\n",
       "      <th>menu_id</th>\n",
       "      <th>menu_name</th>\n",
       "      <th>base_price</th>\n",
       "    </tr>\n",
       "  </thead>\n",
       "  <tbody>\n",
       "    <tr>\n",
       "      <th>0</th>\n",
       "      <td>1</td>\n",
       "      <td>Pizza</td>\n",
       "      <td>50000.0</td>\n",
       "    </tr>\n",
       "    <tr>\n",
       "      <th>3</th>\n",
       "      <td>2</td>\n",
       "      <td>Doughnut</td>\n",
       "      <td>20000.0</td>\n",
       "    </tr>\n",
       "    <tr>\n",
       "      <th>6</th>\n",
       "      <td>3</td>\n",
       "      <td>Pie</td>\n",
       "      <td>45000.0</td>\n",
       "    </tr>\n",
       "  </tbody>\n",
       "</table>\n",
       "</div>"
      ],
      "text/plain": [
       "   menu_id menu_name  base_price\n",
       "0        1     Pizza     50000.0\n",
       "3        2  Doughnut     20000.0\n",
       "6        3       Pie     45000.0"
      ]
     },
     "execution_count": 16,
     "metadata": {},
     "output_type": "execute_result"
    }
   ],
   "source": [
    "# Mengambil data unik dari kolom menu_id, menu_name, dan base_price\n",
    "list_menu = topping_data[['menu_id', 'menu_name', 'base_price']].drop_duplicates()\n",
    "list_menu"
   ]
  },
  {
   "cell_type": "code",
   "execution_count": 2,
   "metadata": {},
   "outputs": [],
   "source": [
    "payload =   {\n",
    "            \"user\": 2,\n",
    "            \"date\": \"2024-01-16\",\n",
    "            \"orders\": [\n",
    "                {\n",
    "                \"menu_id\": 1,\n",
    "                \"quantity\": 2,\n",
    "                \"menu_name\": \"Pizza\",\n",
    "                \"base_price\": 50000,\n",
    "                \"toppings\": [\n",
    "                    {\"topping_id\": 10, \"topping_name\": \"Cheese\", \"topping_price\": 12000}\n",
    "                ],\n",
    "                \"fillings\": [{\"filling_id\": 3, \"filling_name\": \"Tuna\", \"filling_price\": 20000}]\n",
    "                },\n",
    "                {\n",
    "                \"menu_id\": 2,\n",
    "                \"quantity\": 1,\n",
    "                \"menu_name\": \"Doughnut\",\n",
    "                \"base_price\": 20000,\n",
    "                \"toppings\": [\n",
    "                    {\"topping_id\": 13, \"topping_name\": \"Blueberry\", \"topping_price\": 12000}\n",
    "                ],\n",
    "                \"fillings\": []\n",
    "                },\n",
    "                {\n",
    "                \"menu_id\": 3,\n",
    "                \"quantity\": 1,\n",
    "                \"menu_name\": \"Pie\",\n",
    "                \"base_price\": 45000,\n",
    "                \"toppings\": [{\"topping_id\": 16, \"topping_name\": \"Pepper\", \"topping_price\": 8000}],\n",
    "                \"fillings\": [\n",
    "                    {\"filling_id\": 7, \"filling_name\": \"Tuna\", \"filling_price\": 20000}\n",
    "                ]\n",
    "                },\n",
    "                {\n",
    "                \"menu_id\": 2,\n",
    "                \"quantity\": 2,\n",
    "                \"menu_name\": \"Doughnut\",\n",
    "                \"base_price\": 20000,\n",
    "                \"toppings\": [{\"topping_id\": 15, \"topping_name\": \"Sugar Glaze\", \"topping_price\": 10000}],\n",
    "                \"fillings\": [\n",
    "                    {\"filling_id\": 4, \"filling_name\": \"Apple Slices\", \"filling_price\": 14000}\n",
    "                ]\n",
    "                }\n",
    "            ]\n",
    "            }\n",
    "\n",
    "# payload"
   ]
  },
  {
   "cell_type": "code",
   "execution_count": 3,
   "metadata": {},
   "outputs": [
    {
     "name": "stdout",
     "output_type": "stream",
     "text": [
      "[2024-01-15 16:22:50 (+0700)] - data payload : {'user': 2, 'date': '2024-01-16', 'orders': [{'menu_id': 1, 'quantity': 2, 'menu_name': 'Pizza', 'base_price': 50000, 'toppings': [{'topping_id': 10, 'topping_name': 'Cheese', 'topping_price': 12000}], 'fillings': [{'filling_id': 3, 'filling_name': 'Tuna', 'filling_price': 20000}]}, {'menu_id': 2, 'quantity': 1, 'menu_name': 'Doughnut', 'base_price': 20000, 'toppings': [{'topping_id': 13, 'topping_name': 'Blueberry', 'topping_price': 12000}], 'fillings': []}, {'menu_id': 3, 'quantity': 1, 'menu_name': 'Pie', 'base_price': 45000, 'toppings': [{'topping_id': 16, 'topping_name': 'Pepper', 'topping_price': 8000}], 'fillings': [{'filling_id': 7, 'filling_name': 'Tuna', 'filling_price': 20000}]}, {'menu_id': 2, 'quantity': 2, 'menu_name': 'Doughnut', 'base_price': 20000, 'toppings': [{'topping_id': 15, 'topping_name': 'Sugar Glaze', 'topping_price': 10000}], 'fillings': [{'filling_id': 4, 'filling_name': 'Apple Slices', 'filling_price': 14000}]}]}\n",
      "[2024-01-15 16:22:50 (+0700)] -    menu_id menu_name  quantity  total_price\n",
      "0        1     Pizza         2       164000\n",
      "1        2  Doughnut         1        32000\n",
      "2        3       Pie         1        73000\n",
      "3        2  Doughnut         2        88000\n",
      "[2024-01-15 16:22:50 (+0700)] - total price : 357000\n"
     ]
    },
    {
     "data": {
      "text/plain": [
       "{'Status': 'Success',\n",
       " 'Message': '',\n",
       " 'orders': [{'menu_id': 1,\n",
       "   'quantity': 2,\n",
       "   'menu_name': 'Pizza',\n",
       "   'base_price': 50000,\n",
       "   'toppings': [{'topping_id': 10,\n",
       "     'topping_name': 'Cheese',\n",
       "     'topping_price': 12000}],\n",
       "   'fillings': [{'filling_id': 3,\n",
       "     'filling_name': 'Tuna',\n",
       "     'filling_price': 20000}],\n",
       "   'user': 2,\n",
       "   'date': '2024-01-16',\n",
       "   'total_price': 164000},\n",
       "  {'menu_id': 2,\n",
       "   'quantity': 1,\n",
       "   'menu_name': 'Doughnut',\n",
       "   'base_price': 20000,\n",
       "   'toppings': [{'topping_id': 13,\n",
       "     'topping_name': 'Blueberry',\n",
       "     'topping_price': 12000}],\n",
       "   'fillings': [],\n",
       "   'user': 2,\n",
       "   'date': '2024-01-16',\n",
       "   'total_price': 32000},\n",
       "  {'menu_id': 3,\n",
       "   'quantity': 1,\n",
       "   'menu_name': 'Pie',\n",
       "   'base_price': 45000,\n",
       "   'toppings': [{'topping_id': 16,\n",
       "     'topping_name': 'Pepper',\n",
       "     'topping_price': 8000}],\n",
       "   'fillings': [{'filling_id': 7,\n",
       "     'filling_name': 'Tuna',\n",
       "     'filling_price': 20000}],\n",
       "   'user': 2,\n",
       "   'date': '2024-01-16',\n",
       "   'total_price': 73000},\n",
       "  {'menu_id': 2,\n",
       "   'quantity': 2,\n",
       "   'menu_name': 'Doughnut',\n",
       "   'base_price': 20000,\n",
       "   'toppings': [{'topping_id': 15,\n",
       "     'topping_name': 'Sugar Glaze',\n",
       "     'topping_price': 10000}],\n",
       "   'fillings': [{'filling_id': 4,\n",
       "     'filling_name': 'Apple Slices',\n",
       "     'filling_price': 14000}],\n",
       "   'user': 2,\n",
       "   'date': '2024-01-16',\n",
       "   'total_price': 88000}],\n",
       " 'total_order_price': 357000}"
      ]
     },
     "execution_count": 3,
     "metadata": {},
     "output_type": "execute_result"
    }
   ],
   "source": [
    "count_price(payload)"
   ]
  },
  {
   "cell_type": "code",
   "execution_count": 139,
   "metadata": {},
   "outputs": [
    {
     "name": "stdout",
     "output_type": "stream",
     "text": [
      "   menu_id menu_name  quantity  total_price\n",
      "0        1     Pizza         2       164000\n",
      "1        2  Doughnut         1        32000\n",
      "2        3       Pie         1        73000\n",
      "3        2  Doughnut         2        88000\n"
     ]
    }
   ],
   "source": [
    "df = pd.json_normalize(payload, \"orders\", [\"user\", \"date\"])\n",
    "\n",
    "# Menghitung total harga setiap menu\n",
    "df[\"total_price\"] = (\n",
    "    df[\"quantity\"] * df[\"base_price\"] +\n",
    "    df[\"toppings\"].apply(lambda x: sum(t.get(\"topping_price\", 0) for t in x)) * df[\"quantity\"] +\n",
    "    df[\"fillings\"].apply(lambda x: sum(f.get(\"filling_price\", 0) for f in x)) * df[\"quantity\"]\n",
    ")\n",
    "\n",
    "# Menampilkan hasil\n",
    "print(df[[\"menu_id\", \"menu_name\", \"quantity\", \"total_price\"]])"
   ]
  },
  {
   "cell_type": "code",
   "execution_count": 141,
   "metadata": {},
   "outputs": [
    {
     "data": {
      "text/plain": [
       "357000"
      ]
     },
     "execution_count": 141,
     "metadata": {},
     "output_type": "execute_result"
    }
   ],
   "source": [
    "total_order_price = df[\"total_price\"].sum()\n",
    "total_order_price"
   ]
  },
  {
   "cell_type": "code",
   "execution_count": 143,
   "metadata": {},
   "outputs": [
    {
     "name": "stdout",
     "output_type": "stream",
     "text": [
      "{'user': 2, 'date': '2024-01-16', 'orders': [{'menu_id': 1, 'quantity': 2, 'menu_name': 'Pizza', 'base_price': 50000, 'toppings': [{'topping_id': 10, 'topping_name': 'Cheese', 'topping_price': 12000}], 'fillings': [{'filling_id': 3, 'filling_name': 'Tuna', 'filling_price': 20000}], 'user': 2, 'date': '2024-01-16', 'total_price': 164000}, {'menu_id': 2, 'quantity': 1, 'menu_name': 'Doughnut', 'base_price': 20000, 'toppings': [{'topping_id': 13, 'topping_name': 'Blueberry', 'topping_price': 12000}], 'fillings': [], 'user': 2, 'date': '2024-01-16', 'total_price': 32000}, {'menu_id': 3, 'quantity': 1, 'menu_name': 'Pie', 'base_price': 45000, 'toppings': [{'topping_id': 16, 'topping_name': 'Pepper', 'topping_price': 8000}], 'fillings': [{'filling_id': 7, 'filling_name': 'Tuna', 'filling_price': 20000}], 'user': 2, 'date': '2024-01-16', 'total_price': 73000}, {'menu_id': 2, 'quantity': 2, 'menu_name': 'Doughnut', 'base_price': 20000, 'toppings': [{'topping_id': 15, 'topping_name': 'Sugar Glaze', 'topping_price': 10000}], 'fillings': [{'filling_id': 4, 'filling_name': 'Apple Slices', 'filling_price': 14000}], 'user': 2, 'date': '2024-01-16', 'total_price': 88000}], 'total_order_price': 357000}\n"
     ]
    }
   ],
   "source": [
    "json_data = payload\n",
    "json_data[\"orders\"] = df.to_dict(orient=\"records\")\n",
    "json_data[\"total_order_price\"] = total_order_price\n",
    "\n",
    "# Menampilkan hasil\n",
    "print(json_data)"
   ]
  },
  {
   "cell_type": "code",
   "execution_count": 110,
   "metadata": {},
   "outputs": [
    {
     "data": {
      "text/html": [
       "<div>\n",
       "<style scoped>\n",
       "    .dataframe tbody tr th:only-of-type {\n",
       "        vertical-align: middle;\n",
       "    }\n",
       "\n",
       "    .dataframe tbody tr th {\n",
       "        vertical-align: top;\n",
       "    }\n",
       "\n",
       "    .dataframe thead th {\n",
       "        text-align: right;\n",
       "    }\n",
       "</style>\n",
       "<table border=\"1\" class=\"dataframe\">\n",
       "  <thead>\n",
       "    <tr style=\"text-align: right;\">\n",
       "      <th></th>\n",
       "      <th>menu_id</th>\n",
       "      <th>quantity</th>\n",
       "      <th>menu_name</th>\n",
       "      <th>toppings</th>\n",
       "      <th>fillings</th>\n",
       "      <th>base_price</th>\n",
       "      <th>total_price</th>\n",
       "    </tr>\n",
       "  </thead>\n",
       "  <tbody>\n",
       "    <tr>\n",
       "      <th>0</th>\n",
       "      <td>1</td>\n",
       "      <td>2</td>\n",
       "      <td>Pizza</td>\n",
       "      <td>[{'topping_id': 10, 'topping_name': 'Cheese'}]</td>\n",
       "      <td>[{'filling_id': 3, 'filling_name': 'Tuna'}]</td>\n",
       "      <td>50000.0</td>\n",
       "      <td>100000.0</td>\n",
       "    </tr>\n",
       "    <tr>\n",
       "      <th>1</th>\n",
       "      <td>2</td>\n",
       "      <td>1</td>\n",
       "      <td>Doughnut</td>\n",
       "      <td>[{'topping_id': 13, 'topping_name': 'Blueberry'}]</td>\n",
       "      <td>[]</td>\n",
       "      <td>20000.0</td>\n",
       "      <td>20000.0</td>\n",
       "    </tr>\n",
       "    <tr>\n",
       "      <th>2</th>\n",
       "      <td>3</td>\n",
       "      <td>1</td>\n",
       "      <td>Pie</td>\n",
       "      <td>[{'topping_id': 16, 'topping_name': 'Pepper'}]</td>\n",
       "      <td>[{'filling_id': 7, 'filling_name': 'Tuna'}]</td>\n",
       "      <td>45000.0</td>\n",
       "      <td>45000.0</td>\n",
       "    </tr>\n",
       "  </tbody>\n",
       "</table>\n",
       "</div>"
      ],
      "text/plain": [
       "   menu_id  quantity menu_name                                           toppings                                     fillings  base_price  total_price\n",
       "0        1         2     Pizza     [{'topping_id': 10, 'topping_name': 'Cheese'}]  [{'filling_id': 3, 'filling_name': 'Tuna'}]     50000.0     100000.0\n",
       "1        2         1  Doughnut  [{'topping_id': 13, 'topping_name': 'Blueberry'}]                                           []     20000.0      20000.0\n",
       "2        3         1       Pie     [{'topping_id': 16, 'topping_name': 'Pepper'}]  [{'filling_id': 7, 'filling_name': 'Tuna'}]     45000.0      45000.0"
      ]
     },
     "execution_count": 110,
     "metadata": {},
     "output_type": "execute_result"
    }
   ],
   "source": [
    "data = pd.DataFrame(payload[\"orders\"])\n",
    "\n",
    "# Merge dengan menu_df untuk mendapatkan base_price\n",
    "orders_df = pd.merge(data, list_menu[['menu_id', 'base_price']], on='menu_id', how='left')\n",
    "\n",
    "# Menghitung total price\n",
    "orders_df['total_price'] = orders_df['base_price'] * orders_df['quantity']\n",
    "\n",
    "orders_df"
   ]
  },
  {
   "cell_type": "code",
   "execution_count": 112,
   "metadata": {},
   "outputs": [
    {
     "data": {
      "text/html": [
       "<div>\n",
       "<style scoped>\n",
       "    .dataframe tbody tr th:only-of-type {\n",
       "        vertical-align: middle;\n",
       "    }\n",
       "\n",
       "    .dataframe tbody tr th {\n",
       "        vertical-align: top;\n",
       "    }\n",
       "\n",
       "    .dataframe thead th {\n",
       "        text-align: right;\n",
       "    }\n",
       "</style>\n",
       "<table border=\"1\" class=\"dataframe\">\n",
       "  <thead>\n",
       "    <tr style=\"text-align: right;\">\n",
       "      <th></th>\n",
       "      <th>topping_id</th>\n",
       "      <th>topping_name</th>\n",
       "      <th>menu_id</th>\n",
       "      <th>quantity</th>\n",
       "      <th>topping_price</th>\n",
       "      <th>total_topping_price</th>\n",
       "    </tr>\n",
       "  </thead>\n",
       "  <tbody>\n",
       "    <tr>\n",
       "      <th>0</th>\n",
       "      <td>10</td>\n",
       "      <td>Cheese</td>\n",
       "      <td>1</td>\n",
       "      <td>2</td>\n",
       "      <td>12000.0</td>\n",
       "      <td>24000.0</td>\n",
       "    </tr>\n",
       "    <tr>\n",
       "      <th>1</th>\n",
       "      <td>13</td>\n",
       "      <td>Blueberry</td>\n",
       "      <td>2</td>\n",
       "      <td>1</td>\n",
       "      <td>12000.0</td>\n",
       "      <td>12000.0</td>\n",
       "    </tr>\n",
       "    <tr>\n",
       "      <th>2</th>\n",
       "      <td>16</td>\n",
       "      <td>Pepper</td>\n",
       "      <td>3</td>\n",
       "      <td>1</td>\n",
       "      <td>8000.0</td>\n",
       "      <td>8000.0</td>\n",
       "    </tr>\n",
       "  </tbody>\n",
       "</table>\n",
       "</div>"
      ],
      "text/plain": [
       "   topping_id topping_name menu_id quantity  topping_price total_topping_price\n",
       "0          10       Cheese       1        2        12000.0             24000.0\n",
       "1          13    Blueberry       2        1        12000.0             12000.0\n",
       "2          16       Pepper       3        1         8000.0              8000.0"
      ]
     },
     "execution_count": 112,
     "metadata": {},
     "output_type": "execute_result"
    }
   ],
   "source": [
    "# Inisialisasi DataFrame toppings dari data JSON\n",
    "toppings_df = pd.json_normalize(payload[\"orders\"], 'toppings', ['menu_id', 'quantity'])\n",
    "\n",
    "# Merge dengan topping_data untuk mendapatkan topping_price\n",
    "toppings_df = toppings_df.merge(topping_data[['topping_id', 'topping_price']], on='topping_id', how='left')\n",
    "\n",
    "# Menghitung total harga toppings\n",
    "toppings_df['total_topping_price'] = toppings_df['topping_price'] * toppings_df['quantity']\n",
    "\n",
    "toppings_df"
   ]
  },
  {
   "cell_type": "code",
   "execution_count": 113,
   "metadata": {},
   "outputs": [
    {
     "data": {
      "text/html": [
       "<div>\n",
       "<style scoped>\n",
       "    .dataframe tbody tr th:only-of-type {\n",
       "        vertical-align: middle;\n",
       "    }\n",
       "\n",
       "    .dataframe tbody tr th {\n",
       "        vertical-align: top;\n",
       "    }\n",
       "\n",
       "    .dataframe thead th {\n",
       "        text-align: right;\n",
       "    }\n",
       "</style>\n",
       "<table border=\"1\" class=\"dataframe\">\n",
       "  <thead>\n",
       "    <tr style=\"text-align: right;\">\n",
       "      <th></th>\n",
       "      <th>filling_id</th>\n",
       "      <th>filling_name</th>\n",
       "      <th>menu_id</th>\n",
       "      <th>filling_price</th>\n",
       "      <th>total_filling_price</th>\n",
       "    </tr>\n",
       "  </thead>\n",
       "  <tbody>\n",
       "    <tr>\n",
       "      <th>0</th>\n",
       "      <td>3</td>\n",
       "      <td>Tuna</td>\n",
       "      <td>1</td>\n",
       "      <td>20000.0</td>\n",
       "      <td>20000.0</td>\n",
       "    </tr>\n",
       "    <tr>\n",
       "      <th>1</th>\n",
       "      <td>7</td>\n",
       "      <td>Tuna</td>\n",
       "      <td>3</td>\n",
       "      <td>20000.0</td>\n",
       "      <td>20000.0</td>\n",
       "    </tr>\n",
       "  </tbody>\n",
       "</table>\n",
       "</div>"
      ],
      "text/plain": [
       "   filling_id filling_name menu_id  filling_price  total_filling_price\n",
       "0           3         Tuna       1        20000.0              20000.0\n",
       "1           7         Tuna       3        20000.0              20000.0"
      ]
     },
     "execution_count": 113,
     "metadata": {},
     "output_type": "execute_result"
    }
   ],
   "source": [
    "# Inisialisasi DataFrame toppings dari data JSON\n",
    "fillings_df = pd.json_normalize(payload[\"orders\"], 'fillings', ['menu_id'])\n",
    "\n",
    "# Merge dengan topping_data untuk mendapatkan topping_price\n",
    "fillings_df = fillings_df.merge(filling_data[['filling_id', 'filling_price']], on='filling_id', how='left')\n",
    "\n",
    "# Menghitung total harga toppings\n",
    "fillings_df['total_filling_price'] = fillings_df['filling_price']\n",
    "\n",
    "fillings_df"
   ]
  },
  {
   "cell_type": "code",
   "execution_count": 41,
   "metadata": {},
   "outputs": [
    {
     "data": {
      "text/plain": [
       "170000.0"
      ]
     },
     "execution_count": 41,
     "metadata": {},
     "output_type": "execute_result"
    }
   ],
   "source": [
    "total_base_menu = orders_df['total_price'].sum()\n",
    "total_base_menu"
   ]
  },
  {
   "cell_type": "code",
   "execution_count": 105,
   "metadata": {},
   "outputs": [
    {
     "data": {
      "text/plain": [
       "36000.0"
      ]
     },
     "execution_count": 105,
     "metadata": {},
     "output_type": "execute_result"
    }
   ],
   "source": [
    "total_topping_menu = toppings_df['total_topping_price'].sum()\n",
    "total_topping_menu"
   ]
  },
  {
   "cell_type": "code",
   "execution_count": 106,
   "metadata": {},
   "outputs": [
    {
     "data": {
      "text/plain": [
       "29000.0"
      ]
     },
     "execution_count": 106,
     "metadata": {},
     "output_type": "execute_result"
    }
   ],
   "source": [
    "total_filling_menu = fillings_df['total_filling_price'].sum()\n",
    "total_filling_menu"
   ]
  },
  {
   "cell_type": "code",
   "execution_count": 44,
   "metadata": {},
   "outputs": [
    {
     "data": {
      "text/plain": [
       "285000.0"
      ]
     },
     "execution_count": 44,
     "metadata": {},
     "output_type": "execute_result"
    }
   ],
   "source": [
    "total_price = total_base_menu + total_topping_menu + total_filling_menu\n",
    "total_price"
   ]
  },
  {
   "cell_type": "code",
   "execution_count": 87,
   "metadata": {},
   "outputs": [],
   "source": [
    "def count(payload, type):\n",
    "    ret = {'message' : 'failed'}\n",
    "    count_list = []\n",
    "\n",
    "    for order in payload[\"orders\"]:\n",
    "        menu_id = order[\"menu_id\"]\n",
    "        quantity = order[\"quantity\"]\n",
    "\n",
    "        for item in order[type]:\n",
    "            count_list.append({\n",
    "                'menu_id': menu_id,\n",
    "                'quantity': quantity,\n",
    "                'item_id': item[type[:-1] + '_id'],  # Jika 'type' adalah 'topping', ini menjadi 'topping_id'\n",
    "                'item_name': item[type[:-1] + '_name'],  # Jika 'type' adalah 'topping', ini menjadi 'topping_name'\n",
    "            })\n",
    "\n",
    "    # Membuat DataFrame dari list\n",
    "    count_df = pd.DataFrame(count_list)\n",
    "\n",
    "    # Menambahkan pemeriksaan bahwa setiap order untuk suatu menu hanya memiliki satu jenis topping\n",
    "    menu_counts = count_df.groupby(['menu_id', 'quantity']).size().reset_index(name='total_count')\n",
    "    \n",
    "    # Mengurutkan DataFrame berdasarkan menu_id dan quantity\n",
    "    menu_counts = menu_counts.sort_values(by=['menu_id', 'quantity'])\n",
    "\n",
    "    print(menu_counts)\n",
    "    if (menu_counts['total_count'] > 1).any():\n",
    "        ret['message'] = 'failed'\n",
    "        return ret\n",
    "    \n",
    "    ret['message'] = 'success'\n",
    "    return ret"
   ]
  },
  {
   "cell_type": "code",
   "execution_count": 96,
   "metadata": {},
   "outputs": [
    {
     "name": "stdout",
     "output_type": "stream",
     "text": [
      "   menu_id  quantity  total_count\n",
      "0        1         1            1\n",
      "1        1         2            1\n"
     ]
    },
    {
     "data": {
      "text/plain": [
       "{'message': 'success'}"
      ]
     },
     "execution_count": 96,
     "metadata": {},
     "output_type": "execute_result"
    }
   ],
   "source": [
    "cek_topping = count(payload, 'fillings')\n",
    "cek_topping"
   ]
  }
 ],
 "metadata": {
  "kernelspec": {
   "display_name": "Python 3",
   "language": "python",
   "name": "python3"
  },
  "language_info": {
   "codemirror_mode": {
    "name": "ipython",
    "version": 3
   },
   "file_extension": ".py",
   "mimetype": "text/x-python",
   "name": "python",
   "nbconvert_exporter": "python",
   "pygments_lexer": "ipython3",
   "version": "3.8.10"
  }
 },
 "nbformat": 4,
 "nbformat_minor": 2
}
